
import pandas as pd
from matplotlib import pyplot as plt

df_train = pd.read_csv("train.csv")
df_test = pd.read_csv("test.csv")
df1 = df_train
print(df_train.dtypes)
pd.to_numeric(df_train.total_night_charge)

mc_churn_no = df1[df1.churn=='no'].total_night_charge      
mc_churn_yes = df1[df1.churn=='yes'].total_night_charge      

plt.xlabel("total_night_charge ")
plt.ylabel("Number Of Customers")
plt.title("Customer Churn Prediction Visualiztion")

blood_sugar_men = [113, 85, 90, 150, 149, 88, 93, 115, 135, 80, 77, 82, 129]
blood_sugar_women = [67, 98, 89, 120, 133, 150, 84, 69, 89, 79, 120, 112, 100]

plt.hist([mc_churn_yes, mc_churn_no], rwidth=0.95, color=['green','red'],label=['Churn=Yes','Churn=No'])
plt.legend()